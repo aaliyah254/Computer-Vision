{
 "cells": [
  {
   "cell_type": "code",
   "execution_count": null,
   "id": "98d2f760",
   "metadata": {},
   "outputs": [],
   "source": [
    "# Part I: A photo booth application\n",
    "\n",
    "# Three colored shapes (ellipse: Blue, Green, Red) arranged in a triangular pattern.\n",
    "# Proper positioning and size of circles.\n",
    "# The text \"OpenCV\" at the center/bottom.\n",
    "\n",
    "import cv2\n",
    "import numpy as np\n",
    "\n",
    "# Create a white canvas\n",
    "img = np.ones((400, 400, 3), dtype=np.uint8) * 255\n",
    "\n",
    "# colors BGR\n",
    "blue = (255, 0, 0)\n",
    "green = (0, 255, 0)\n",
    "red = (0, 0, 255)\n",
    "\n",
    "# Draw three circles\n",
    "cv2.ellipse(img, (200, 150), (60, 60), 0, 0, 360, red, -1)   \n",
    "cv2.ellipse(img, (260, 250), (60, 60), 0, 0, 360, blue, -1)     \n",
    "cv2.ellipse(img, (140, 250), (60, 60), 0, 0, 360, green, -1)   \n",
    "\n",
    "cv2.putText(img, \"OpenCV\", (115, 360), cv2.FONT_HERSHEY_SIMPLEX, 1, (0, 0, 0), 2)\n",
    "\n",
    "# Save and display image\n",
    "cv2.imwrite(\"opencv_logo.jpg\", img)\n",
    "cv2.imshow(\"OpenCV Logo\", img)\n",
    "cv2.waitKey(0)\n",
    "cv2.destroyAllWindows()"
   ]
  }
 ],
 "metadata": {
  "kernelspec": {
   "display_name": "Python 3",
   "language": "python",
   "name": "python3"
  },
  "language_info": {
   "codemirror_mode": {
    "name": "ipython",
    "version": 3
   },
   "file_extension": ".py",
   "mimetype": "text/x-python",
   "name": "python",
   "nbconvert_exporter": "python",
   "pygments_lexer": "ipython3",
   "version": "3.12.6"
  }
 },
 "nbformat": 4,
 "nbformat_minor": 5
}
