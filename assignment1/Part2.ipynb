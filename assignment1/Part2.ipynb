{
 "cells": [
  {
   "cell_type": "code",
   "execution_count": null,
   "id": "dbd4605b",
   "metadata": {},
   "outputs": [],
   "source": [
    "# Part II: Manually blend two images using NumPy operations.\n",
    "\n",
    "# formula:  blend = (1−α)⋅img1 + α⋅img2\n",
    "# alpha must be a value between 0 and 1.\n",
    "# Do not use cv2.addWeighted.\n",
    "# Display and save the blended image as \"manual_blend.jpg\"\n",
    "\n",
    "import cv2\n",
    "import numpy as np\n",
    "\n",
    "# Load images\n",
    "img1 = cv2.imread(\"Image1.jpg\")\n",
    "img2 = cv2.imread(\"Image2.jpg\")\n",
    "\n",
    "# Check if images load\n",
    "if img1 is None or img2 is None:\n",
    "    print(\"Sorry! Image not Loaded.\")\n",
    "else:\n",
    "    # Resize images to be the same size if needed\n",
    "    if img1.shape != img2.shape:\n",
    "        img2 = cv2.resize(img2, (img1.shape[1], img1.shape[0]))\n",
    "\n",
    "    # Choose alpha - 50% for each image\n",
    "    alpha = 0.5\n",
    "\n",
    "    # Blend images manually\n",
    "    blended = ((1 - alpha) * img1 + alpha * img2).astype(np.uint8)\n",
    "\n",
    "    # Save and display the result\n",
    "    cv2.imwrite(\"manual_blend.jpg\", blended)\n",
    "    cv2.imshow(\"The Blended Image\", blended)\n",
    "    cv2.waitKey(0)\n",
    "    cv2.destroyAllWindows()\n",
    "\n"
   ]
  }
 ],
 "metadata": {
  "kernelspec": {
   "display_name": "Python 3",
   "language": "python",
   "name": "python3"
  },
  "language_info": {
   "codemirror_mode": {
    "name": "ipython",
    "version": 3
   },
   "file_extension": ".py",
   "mimetype": "text/x-python",
   "name": "python",
   "nbconvert_exporter": "python",
   "pygments_lexer": "ipython3",
   "version": "3.12.6"
  }
 },
 "nbformat": 4,
 "nbformat_minor": 5
}
