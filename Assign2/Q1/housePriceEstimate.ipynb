{
 "cells": [
  {
   "cell_type": "code",
   "execution_count": null,
   "id": "0379b160",
   "metadata": {},
   "outputs": [
    {
     "name": "stdout",
     "output_type": "stream",
     "text": [
      "Linear Regression Coefficients: [   143.21853204 -13512.56442597]\n",
      "Intercept: 84763.62252219403\n",
      "MAE: 72334.75360356671\n",
      "MSE: 8610424544.777674\n",
      "RMSE: 92792.37331148327\n",
      "MAPE: 17.46051927831933\n",
      "SGD Coefficients: [106535.91023723 -10274.95128909]\n",
      "Intercept: [323155.83200156]\n",
      "MAE: 72124.60655610403\n",
      "MSE: 8595003325.390148\n",
      "RMSE: 92709.24077668929\n",
      "MAPE: 17.400482776429413\n"
     ]
    }
   ],
   "source": [
    "import pandas as pd\n",
    "import numpy as np\n",
    "import matplotlib.pyplot as plt\n",
    "from sklearn.model_selection import train_test_split\n",
    "from sklearn.linear_model import LinearRegression, SGDRegressor\n",
    "from sklearn.metrics import mean_absolute_error, mean_squared_error\n",
    "from sklearn.preprocessing import StandardScaler\n",
    "\n",
    "\n",
    "df = pd.read_csv(\"house_price.csv\")\n",
    "df.head()\n",
    "\n",
    "X = df[['size', 'bedroom']]\n",
    "y = df['price']\n",
    "\n",
    "X_train, X_test, y_train, y_test = train_test_split(X, y, test_size=0.2, random_state=42)\n",
    "\n",
    "lr_model = LinearRegression()\n",
    "lr_model.fit(X_train, y_train)\n",
    "y_pred_lr = lr_model.predict(X_test)\n",
    "\n",
    "mae_lr = mean_absolute_error(y_test, y_pred_lr)\n",
    "mse_lr = mean_squared_error(y_test, y_pred_lr)\n",
    "rmse_lr = np.sqrt(mse_lr)\n",
    "mape_lr = np.mean(np.abs((y_test - y_pred_lr) / y_test)) * 100\n",
    "\n",
    "print(\"Linear Regression Coefficients:\", lr_model.coef_)\n",
    "print(\"Intercept:\", lr_model.intercept_)\n",
    "print(\"MAE:\", mae_lr)\n",
    "print(\"MSE:\", mse_lr)\n",
    "print(\"RMSE:\", rmse_lr)\n",
    "print(\"MAPE:\", mape_lr)\n",
    "\n",
    "scaler = StandardScaler()\n",
    "X_train_scaled = scaler.fit_transform(X_train)\n",
    "X_test_scaled = scaler.transform(X_test)\n",
    "\n",
    "sgd_model = SGDRegressor(max_iter=1000, tol=1e-3, random_state=42)\n",
    "sgd_model.fit(X_train_scaled, y_train)\n",
    "y_pred_sgd = sgd_model.predict(X_test_scaled)\n",
    "\n",
    "mae_sgd = mean_absolute_error(y_test, y_pred_sgd)\n",
    "mse_sgd = mean_squared_error(y_test, y_pred_sgd)\n",
    "rmse_sgd = np.sqrt(mse_sgd)\n",
    "mape_sgd = np.mean(np.abs((y_test - y_pred_sgd) / y_test)) * 100\n",
    "\n",
    "print(\"SGD Coefficients:\", sgd_model.coef_)\n",
    "print(\"Intercept:\", sgd_model.intercept_)\n",
    "print(\"MAE:\", mae_sgd)\n",
    "print(\"MSE:\", mse_sgd)\n",
    "print(\"RMSE:\", rmse_sgd)\n",
    "print(\"MAPE:\", mape_sgd)\n",
    "\n"
   ]
  },
  {
   "cell_type": "markdown",
   "id": "d00d40c4",
   "metadata": {},
   "source": [
    "To understand how well the models performed, we looked at a few key evaluation metrics:\n",
    "\n",
    "1. MAE (Mean Absolute Error) shows the average difference between predicted and actual prices. It’s easy to understand because it’s expressed in dollars, and it’s not too sensitive to large errors.\n",
    "2. MSE (Mean Squared Error) takes the errors and squares them, which means big mistakes have a bigger impact on the final score.\n",
    "3. RMSE (Root Mean Squared Error) is just the square root of MSE. Like MAE, it’s measured in dollars, but it still emphasizes larger errors more.\n",
    "4. MAPE (Mean Absolute Percentage Error) shows how far off the predictions were on average, as a percentage of the actual price. It’s great for comparing performance across different models or datasets, but it can be unreliable when the actual values are small.\n",
    "\n",
    "In the end, both models gave very similar results. LinearRegression was simple to apply, while SGDRegressor required a bit more setup with feature scaling. However, once that was done, it performed just as well."
   ]
  }
 ],
 "metadata": {
  "kernelspec": {
   "display_name": "Python 3",
   "language": "python",
   "name": "python3"
  },
  "language_info": {
   "codemirror_mode": {
    "name": "ipython",
    "version": 3
   },
   "file_extension": ".py",
   "mimetype": "text/x-python",
   "name": "python",
   "nbconvert_exporter": "python",
   "pygments_lexer": "ipython3",
   "version": "3.12.6"
  }
 },
 "nbformat": 4,
 "nbformat_minor": 5
}
